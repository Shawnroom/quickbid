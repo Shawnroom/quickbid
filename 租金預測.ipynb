{
 "cells": [
  {
   "cell_type": "code",
   "execution_count": 42,
   "metadata": {
    "collapsed": true
   },
   "outputs": [],
   "source": [
    "import pandas as pd\n",
    "import numpy as np\n",
    "from collections import OrderedDict\n",
    "\n",
    "from sklearn.ensemble import GradientBoostingRegressor\n",
    "from sklearn.model_selection import cross_val_score\n",
    "from sklearn.linear_model import LinearRegression,Ridge\n",
    "\n",
    "import matplotlib.pyplot as plt\n",
    "get_ipython().magic(u'matplotlib inline')\n",
    "import seaborn as sns\n",
    "sns.set_style(\"whitegrid\")"
   ]
  },
  {
   "cell_type": "code",
   "execution_count": 43,
   "metadata": {
    "collapsed": true
   },
   "outputs": [],
   "source": [
    "def r2_score(y,y_hat):\n",
    "    ratio = np.sum((y-y_hat)**2) / np.sum((y-np.mean(y))**2)\n",
    "    r_square = 1 - ratio\n",
    "    return r_square"
   ]
  },
  {
   "cell_type": "code",
   "execution_count": 66,
   "metadata": {
    "collapsed": true
   },
   "outputs": [],
   "source": [
    "# 讀取資料\n",
    "data = pd.read_csv(r'C:\\Users\\GN1504301\\Desktop\\競賽資料-utf8\\競賽資料-utf8\\租屋資訊trainset.csv',encoding='utf-8')\n",
    "test_set = pd.read_csv(r'C:\\Users\\GN1504301\\Desktop\\競賽資料-utf8\\競賽資料-utf8\\租屋資訊testset.csv',encoding='big5')"
   ]
  },
  {
   "cell_type": "code",
   "execution_count": 45,
   "metadata": {
    "collapsed": false
   },
   "outputs": [
    {
     "name": "stderr",
     "output_type": "stream",
     "text": [
      "C:\\Users\\GN1504301\\Anaconda3\\lib\\site-packages\\ipykernel\\__main__.py:8: SettingWithCopyWarning: \n",
      "A value is trying to be set on a copy of a slice from a DataFrame\n",
      "\n",
      "See the caveats in the documentation: http://pandas.pydata.org/pandas-docs/stable/indexing.html#indexing-view-versus-copy\n"
     ]
    }
   ],
   "source": [
    "data['floor_ratio'] = data['floor'] / data['allfloor']\n",
    "data['cp_value'] = data['price'] / data['area']\n",
    "\n",
    "data['region_cp_mean'] = data.groupby('sectionname')['cp_value'].transform('mean')\n",
    "data['station_cp_mean'] = data.groupby('min_station_name')['cp_value'].transform('mean')\n",
    "\n",
    "data['ground_space'] = 0\n",
    "data['ground_space'][data['floor'] == 0] = 1"
   ]
  },
  {
   "cell_type": "markdown",
   "metadata": {},
   "source": [
    "創造新變數\n",
    "\n",
    "floor_ratio : 租屋的樓層比，值在0-1之間，想法是值越靠近1時租金會越便宜（爬越多樓梯？）<br>\n",
    "cp_value : 每坪租金，用來做outlier值篩選 <br>\n",
    "region_cp_mean : 同一行政區下的平均cp_value，用來衡量不同行政區的繁華程度 <br>\n",
    "station_cp_mean : 同一捷運站下的平均cp_value，用來衡量不同捷運站的繁華程度(此變數較不穩定) <br>"
   ]
  },
  {
   "cell_type": "code",
   "execution_count": 46,
   "metadata": {
    "collapsed": true
   },
   "outputs": [],
   "source": [
    "def mapping(x):\n",
    "    if x == '分租套房':\n",
    "        return '1房0廳1衛'\n",
    "    if x == '獨立套房':\n",
    "        return '1房0廳1衛'\n",
    "    if x == '雅房':\n",
    "        return '1房0廳0衛'\n",
    "    if x == '其他':\n",
    "        return '0房0廳0衛'"
   ]
  },
  {
   "cell_type": "code",
   "execution_count": 47,
   "metadata": {
    "collapsed": true
   },
   "outputs": [],
   "source": [
    "data['layout2'] = data['kind_name'].apply(mapping)\n",
    "data['layout_total'] = data['layout'].fillna('') + data['layout2'].fillna('')\n",
    "data['rooms'] = data['layout_total'].str.split('房').str[0]\n",
    "data['way'] = data['layout_total'].str.split('廳').str[1]\n",
    "data['way'] = data['way'].str.split('衛').str[0]"
   ]
  },
  {
   "cell_type": "markdown",
   "metadata": {},
   "source": [
    "創造新變數\n",
    "\n",
    "rooms : 租屋房間數，假設其他類為0，套房類為1 <br>\n",
    "way : 租屋衛浴數，假設其他與雅房類為0，套房類為1 <br>"
   ]
  },
  {
   "cell_type": "code",
   "execution_count": 48,
   "metadata": {
    "collapsed": true
   },
   "outputs": [],
   "source": [
    "data = data.query('room != 99').reset_index(drop = True)\n",
    "data = data.query('cp_value < 7340 & cp_value > 250').reset_index(drop = True)\n",
    "data = data.query('floor_ratio <=1').reset_index(drop = True)"
   ]
  },
  {
   "cell_type": "markdown",
   "metadata": {},
   "source": [
    "移除資料\n",
    "\n",
    "1. 99房移除 (開放式空間 + 車位) <br>\n",
    "2. 極端cp_value的租屋移除 <br>\n",
    "   極端值的定義為 mean(cp_value) + 3*std(cp_value)\n",
    "3. floor_ratio > 1的移除 <br>"
   ]
  },
  {
   "cell_type": "code",
   "execution_count": 49,
   "metadata": {
    "collapsed": true
   },
   "outputs": [],
   "source": [
    "# 創造 kind_name & sectionname虛擬變數\n",
    "kind_dum = pd.get_dummies(data.kind_name)\n",
    "sect_dum = pd.get_dummies(data.sectionname)\n",
    "dumms = pd.concat([kind_dum,sect_dum],axis = 1) \n",
    "data = pd.concat([data,dumms],axis = 1)"
   ]
  },
  {
   "cell_type": "code",
   "execution_count": 50,
   "metadata": {
    "collapsed": true
   },
   "outputs": [],
   "source": [
    "# 將living欄資訊轉為虛擬變數\n",
    "living = pd.Series(data.living)\n",
    "living.fillna('0',inplace=True)\n",
    "liv_list = ['depart', 'advstore', 'market', 'night', 'park', 'school', 'hospital']\n",
    "\n",
    "liv2_list = []\n",
    "for i in living:\n",
    "    liv_dict = OrderedDict()\n",
    "    for j in i.split(','):\n",
    "        '''\n",
    "        if j not in liv_list:\n",
    "            liv_list.append(j)\n",
    "        '''\n",
    "        if j in liv_list:\n",
    "            liv_dict['%s' %j] = 1\n",
    "    liv2_list.append(liv_dict)\n",
    "\n",
    "liv_frame = pd.DataFrame(liv2_list)\n",
    "liv_frame.fillna('0',inplace=True)"
   ]
  },
  {
   "cell_type": "code",
   "execution_count": 51,
   "metadata": {
    "collapsed": true
   },
   "outputs": [],
   "source": [
    "# 將condition欄資訊轉為虛擬變數\n",
    "condition = pd.Series(data.condition)\n",
    "condition.fillna('0',inplace=True)\n",
    "cond_list = ['tv','icebox','cold','washer','hotwater','four','broadband','landpost','pet','cook','trabus','balcony_0',\n",
    " 'lease','bed','wardrobe','sofa','bookTable','chair','balcony_1','naturalgas','cartplace','lift','boy','isleastrent',\n",
    " 'girl','teaTable','bookshelf','dinette','watermemachine','gasstove']\n",
    "\n",
    "cond2_list = []\n",
    "for i in condition:\n",
    "    cond_dict = OrderedDict()\n",
    "    for j in i.split(','):\n",
    "        '''\n",
    "        if j not in cond_list:\n",
    "            cond_list.append(j)\n",
    "        '''\n",
    "        if j in cond_list:\n",
    "            cond_dict['%s' %j] = 1\n",
    "    cond2_list.append(cond_dict)\n",
    "\n",
    "cond_frame = pd.DataFrame(cond2_list)\n",
    "cond_frame.fillna('0',inplace=True)"
   ]
  },
  {
   "cell_type": "code",
   "execution_count": 52,
   "metadata": {
    "collapsed": false
   },
   "outputs": [
    {
     "data": {
      "text/html": [
       "<div>\n",
       "<table border=\"1\" class=\"dataframe\">\n",
       "  <thead>\n",
       "    <tr style=\"text-align: right;\">\n",
       "      <th></th>\n",
       "      <th>depart</th>\n",
       "      <th>advstore</th>\n",
       "      <th>market</th>\n",
       "      <th>night</th>\n",
       "      <th>park</th>\n",
       "      <th>school</th>\n",
       "      <th>hospital</th>\n",
       "      <th>tv</th>\n",
       "      <th>icebox</th>\n",
       "      <th>cold</th>\n",
       "      <th>...</th>\n",
       "      <th>balcony_1</th>\n",
       "      <th>lift</th>\n",
       "      <th>boy</th>\n",
       "      <th>isleastrent</th>\n",
       "      <th>girl</th>\n",
       "      <th>teaTable</th>\n",
       "      <th>bookshelf</th>\n",
       "      <th>dinette</th>\n",
       "      <th>watermemachine</th>\n",
       "      <th>gasstove</th>\n",
       "    </tr>\n",
       "  </thead>\n",
       "  <tbody>\n",
       "    <tr>\n",
       "      <th>count</th>\n",
       "      <td>9146</td>\n",
       "      <td>9146.0</td>\n",
       "      <td>9146.0</td>\n",
       "      <td>9146</td>\n",
       "      <td>9146.0</td>\n",
       "      <td>9146.0</td>\n",
       "      <td>9146.0</td>\n",
       "      <td>9146.0</td>\n",
       "      <td>9146.0</td>\n",
       "      <td>9146.0</td>\n",
       "      <td>...</td>\n",
       "      <td>9146.0</td>\n",
       "      <td>9146</td>\n",
       "      <td>9146</td>\n",
       "      <td>9146</td>\n",
       "      <td>9146</td>\n",
       "      <td>9146</td>\n",
       "      <td>9146</td>\n",
       "      <td>9146</td>\n",
       "      <td>9146</td>\n",
       "      <td>9146</td>\n",
       "    </tr>\n",
       "    <tr>\n",
       "      <th>unique</th>\n",
       "      <td>2</td>\n",
       "      <td>2.0</td>\n",
       "      <td>2.0</td>\n",
       "      <td>2</td>\n",
       "      <td>2.0</td>\n",
       "      <td>2.0</td>\n",
       "      <td>2.0</td>\n",
       "      <td>2.0</td>\n",
       "      <td>2.0</td>\n",
       "      <td>2.0</td>\n",
       "      <td>...</td>\n",
       "      <td>2.0</td>\n",
       "      <td>2</td>\n",
       "      <td>2</td>\n",
       "      <td>2</td>\n",
       "      <td>2</td>\n",
       "      <td>2</td>\n",
       "      <td>2</td>\n",
       "      <td>2</td>\n",
       "      <td>2</td>\n",
       "      <td>2</td>\n",
       "    </tr>\n",
       "    <tr>\n",
       "      <th>top</th>\n",
       "      <td>0</td>\n",
       "      <td>1.0</td>\n",
       "      <td>1.0</td>\n",
       "      <td>0</td>\n",
       "      <td>1.0</td>\n",
       "      <td>1.0</td>\n",
       "      <td>1.0</td>\n",
       "      <td>1.0</td>\n",
       "      <td>1.0</td>\n",
       "      <td>1.0</td>\n",
       "      <td>...</td>\n",
       "      <td>1.0</td>\n",
       "      <td>0</td>\n",
       "      <td>0</td>\n",
       "      <td>0</td>\n",
       "      <td>0</td>\n",
       "      <td>0</td>\n",
       "      <td>0</td>\n",
       "      <td>0</td>\n",
       "      <td>0</td>\n",
       "      <td>0</td>\n",
       "    </tr>\n",
       "    <tr>\n",
       "      <th>freq</th>\n",
       "      <td>5094</td>\n",
       "      <td>6324.0</td>\n",
       "      <td>5209.0</td>\n",
       "      <td>5360</td>\n",
       "      <td>6083.0</td>\n",
       "      <td>5861.0</td>\n",
       "      <td>4697.0</td>\n",
       "      <td>5854.0</td>\n",
       "      <td>6728.0</td>\n",
       "      <td>8378.0</td>\n",
       "      <td>...</td>\n",
       "      <td>5857.0</td>\n",
       "      <td>5184</td>\n",
       "      <td>9025</td>\n",
       "      <td>9081</td>\n",
       "      <td>8561</td>\n",
       "      <td>9143</td>\n",
       "      <td>9142</td>\n",
       "      <td>9145</td>\n",
       "      <td>9143</td>\n",
       "      <td>9145</td>\n",
       "    </tr>\n",
       "  </tbody>\n",
       "</table>\n",
       "<p>4 rows × 37 columns</p>\n",
       "</div>"
      ],
      "text/plain": [
       "       depart  advstore  market night    park  school  hospital      tv  \\\n",
       "count    9146    9146.0  9146.0  9146  9146.0  9146.0    9146.0  9146.0   \n",
       "unique      2       2.0     2.0     2     2.0     2.0       2.0     2.0   \n",
       "top         0       1.0     1.0     0     1.0     1.0       1.0     1.0   \n",
       "freq     5094    6324.0  5209.0  5360  6083.0  5861.0    4697.0  5854.0   \n",
       "\n",
       "        icebox    cold   ...     balcony_1  lift   boy isleastrent  girl  \\\n",
       "count   9146.0  9146.0   ...        9146.0  9146  9146        9146  9146   \n",
       "unique     2.0     2.0   ...           2.0     2     2           2     2   \n",
       "top        1.0     1.0   ...           1.0     0     0           0     0   \n",
       "freq    6728.0  8378.0   ...        5857.0  5184  9025        9081  8561   \n",
       "\n",
       "       teaTable  bookshelf dinette watermemachine gasstove  \n",
       "count      9146       9146    9146           9146     9146  \n",
       "unique        2          2       2              2        2  \n",
       "top           0          0       0              0        0  \n",
       "freq       9143       9142    9145           9143     9145  \n",
       "\n",
       "[4 rows x 37 columns]"
      ]
     },
     "execution_count": 52,
     "metadata": {},
     "output_type": "execute_result"
    }
   ],
   "source": [
    "dum_frame = pd.concat([liv_frame,cond_frame],axis = 1)\n",
    "dum_frame.describe()"
   ]
  },
  {
   "cell_type": "markdown",
   "metadata": {},
   "source": [
    "從上面表格可看出有些變數呈現一面倒的狀況，例如dinette,gasstove,teaTable等等，這些變數的預測能力應該很糟糕"
   ]
  },
  {
   "cell_type": "code",
   "execution_count": 53,
   "metadata": {
    "collapsed": true
   },
   "outputs": [],
   "source": [
    "full = pd.concat([data,dum_frame],axis = 1)"
   ]
  },
  {
   "cell_type": "code",
   "execution_count": 54,
   "metadata": {
    "collapsed": true
   },
   "outputs": [],
   "source": [
    "# 刪除無用的欄位\n",
    "col2drop = ['houseage','id','living','condition','address_img_title','lat','lng','loc_type','min_station_name','min_park_name',\n",
    "            'allfloor','unit','regionname','kind_name','fulladdress','layout','address','sectionname','room'\n",
    "           ,'watermemachine','gasstove','dinette','teaTable','bookshelf','cp_value','layout2','layout_total'] #\n",
    "cols = [col for col in full.columns if col not in col2drop]\n",
    "full_data = full[cols]"
   ]
  },
  {
   "cell_type": "code",
   "execution_count": 55,
   "metadata": {
    "collapsed": false
   },
   "outputs": [
    {
     "data": {
      "text/html": [
       "<div>\n",
       "<table border=\"1\" class=\"dataframe\">\n",
       "  <thead>\n",
       "    <tr style=\"text-align: right;\">\n",
       "      <th></th>\n",
       "      <th>area</th>\n",
       "      <th>price</th>\n",
       "      <th>floor</th>\n",
       "      <th>min_station</th>\n",
       "      <th>min_park</th>\n",
       "      <th>floor_ratio</th>\n",
       "      <th>region_cp_mean</th>\n",
       "      <th>station_cp_mean</th>\n",
       "      <th>ground_space</th>\n",
       "      <th>rooms</th>\n",
       "      <th>...</th>\n",
       "      <th>sofa</th>\n",
       "      <th>bookTable</th>\n",
       "      <th>chair</th>\n",
       "      <th>naturalgas</th>\n",
       "      <th>cartplace</th>\n",
       "      <th>balcony_1</th>\n",
       "      <th>lift</th>\n",
       "      <th>boy</th>\n",
       "      <th>isleastrent</th>\n",
       "      <th>girl</th>\n",
       "    </tr>\n",
       "  </thead>\n",
       "  <tbody>\n",
       "    <tr>\n",
       "      <th>0</th>\n",
       "      <td>15.0</td>\n",
       "      <td>16500.0</td>\n",
       "      <td>7</td>\n",
       "      <td>466.615329</td>\n",
       "      <td>128.302422</td>\n",
       "      <td>0.583333</td>\n",
       "      <td>1680.532380</td>\n",
       "      <td>1647.829599</td>\n",
       "      <td>0</td>\n",
       "      <td>1</td>\n",
       "      <td>...</td>\n",
       "      <td>1</td>\n",
       "      <td>1</td>\n",
       "      <td>1</td>\n",
       "      <td>0</td>\n",
       "      <td>0</td>\n",
       "      <td>0</td>\n",
       "      <td>0</td>\n",
       "      <td>0</td>\n",
       "      <td>0</td>\n",
       "      <td>0</td>\n",
       "    </tr>\n",
       "    <tr>\n",
       "      <th>1</th>\n",
       "      <td>6.0</td>\n",
       "      <td>7800.0</td>\n",
       "      <td>4</td>\n",
       "      <td>491.912541</td>\n",
       "      <td>203.220846</td>\n",
       "      <td>0.800000</td>\n",
       "      <td>1326.795479</td>\n",
       "      <td>1474.260730</td>\n",
       "      <td>0</td>\n",
       "      <td>1</td>\n",
       "      <td>...</td>\n",
       "      <td>0</td>\n",
       "      <td>1</td>\n",
       "      <td>1</td>\n",
       "      <td>0</td>\n",
       "      <td>0</td>\n",
       "      <td>0</td>\n",
       "      <td>0</td>\n",
       "      <td>0</td>\n",
       "      <td>0</td>\n",
       "      <td>0</td>\n",
       "    </tr>\n",
       "    <tr>\n",
       "      <th>2</th>\n",
       "      <td>45.0</td>\n",
       "      <td>45000.0</td>\n",
       "      <td>10</td>\n",
       "      <td>1299.338389</td>\n",
       "      <td>99.717441</td>\n",
       "      <td>0.714286</td>\n",
       "      <td>1279.257306</td>\n",
       "      <td>1262.717756</td>\n",
       "      <td>0</td>\n",
       "      <td>3</td>\n",
       "      <td>...</td>\n",
       "      <td>1</td>\n",
       "      <td>1</td>\n",
       "      <td>1</td>\n",
       "      <td>1</td>\n",
       "      <td>1</td>\n",
       "      <td>1</td>\n",
       "      <td>0</td>\n",
       "      <td>0</td>\n",
       "      <td>0</td>\n",
       "      <td>0</td>\n",
       "    </tr>\n",
       "    <tr>\n",
       "      <th>3</th>\n",
       "      <td>9.0</td>\n",
       "      <td>18000.0</td>\n",
       "      <td>14</td>\n",
       "      <td>523.118458</td>\n",
       "      <td>183.753753</td>\n",
       "      <td>0.933333</td>\n",
       "      <td>1680.532380</td>\n",
       "      <td>1533.820515</td>\n",
       "      <td>0</td>\n",
       "      <td>1</td>\n",
       "      <td>...</td>\n",
       "      <td>1</td>\n",
       "      <td>1</td>\n",
       "      <td>1</td>\n",
       "      <td>0</td>\n",
       "      <td>0</td>\n",
       "      <td>0</td>\n",
       "      <td>0</td>\n",
       "      <td>0</td>\n",
       "      <td>0</td>\n",
       "      <td>0</td>\n",
       "    </tr>\n",
       "    <tr>\n",
       "      <th>4</th>\n",
       "      <td>15.1</td>\n",
       "      <td>16000.0</td>\n",
       "      <td>5</td>\n",
       "      <td>150.628808</td>\n",
       "      <td>211.178627</td>\n",
       "      <td>0.500000</td>\n",
       "      <td>1537.655015</td>\n",
       "      <td>1413.802897</td>\n",
       "      <td>0</td>\n",
       "      <td>1</td>\n",
       "      <td>...</td>\n",
       "      <td>1</td>\n",
       "      <td>1</td>\n",
       "      <td>1</td>\n",
       "      <td>1</td>\n",
       "      <td>1</td>\n",
       "      <td>1</td>\n",
       "      <td>1</td>\n",
       "      <td>0</td>\n",
       "      <td>0</td>\n",
       "      <td>0</td>\n",
       "    </tr>\n",
       "  </tbody>\n",
       "</table>\n",
       "<p>5 rows × 60 columns</p>\n",
       "</div>"
      ],
      "text/plain": [
       "   area    price  floor  min_station    min_park  floor_ratio  region_cp_mean  \\\n",
       "0  15.0  16500.0      7   466.615329  128.302422     0.583333     1680.532380   \n",
       "1   6.0   7800.0      4   491.912541  203.220846     0.800000     1326.795479   \n",
       "2  45.0  45000.0     10  1299.338389   99.717441     0.714286     1279.257306   \n",
       "3   9.0  18000.0     14   523.118458  183.753753     0.933333     1680.532380   \n",
       "4  15.1  16000.0      5   150.628808  211.178627     0.500000     1537.655015   \n",
       "\n",
       "   station_cp_mean  ground_space rooms  ...  sofa  bookTable  chair  \\\n",
       "0      1647.829599             0     1  ...     1          1      1   \n",
       "1      1474.260730             0     1  ...     0          1      1   \n",
       "2      1262.717756             0     3  ...     1          1      1   \n",
       "3      1533.820515             0     1  ...     1          1      1   \n",
       "4      1413.802897             0     1  ...     1          1      1   \n",
       "\n",
       "   naturalgas  cartplace  balcony_1  lift  boy  isleastrent  girl  \n",
       "0           0          0          0     0    0            0     0  \n",
       "1           0          0          0     0    0            0     0  \n",
       "2           1          1          1     0    0            0     0  \n",
       "3           0          0          0     0    0            0     0  \n",
       "4           1          1          1     1    0            0     0  \n",
       "\n",
       "[5 rows x 60 columns]"
      ]
     },
     "execution_count": 55,
     "metadata": {},
     "output_type": "execute_result"
    }
   ],
   "source": [
    "full_data.head()"
   ]
  },
  {
   "cell_type": "markdown",
   "metadata": {},
   "source": [
    "有60個x,其中大多是dummy variable"
   ]
  },
  {
   "cell_type": "code",
   "execution_count": 56,
   "metadata": {
    "collapsed": true
   },
   "outputs": [],
   "source": [
    "train_ratio = 0.66\n",
    "idx = int(full_data.shape[0]*train_ratio)\n",
    "train_data = full_data[:idx]\n",
    "test_data = full_data[idx:]"
   ]
  },
  {
   "cell_type": "code",
   "execution_count": 57,
   "metadata": {
    "collapsed": true
   },
   "outputs": [],
   "source": [
    "train_y = np.ravel(train_data.price)\n",
    "train_x = train_data.drop(['price'],axis = 1)\n",
    "\n",
    "test_y = np.ravel(test_data.price)\n",
    "test_x = test_data.drop(['price'],axis = 1)"
   ]
  },
  {
   "cell_type": "markdown",
   "metadata": {},
   "source": [
    "將資料分成training & testing"
   ]
  },
  {
   "cell_type": "code",
   "execution_count": 58,
   "metadata": {
    "collapsed": false
   },
   "outputs": [
    {
     "name": "stdout",
     "output_type": "stream",
     "text": [
      "train: 0.827246702547\n",
      "test: 0.809576008676\n"
     ]
    }
   ],
   "source": [
    "lg = LinearRegression()\n",
    "lg.fit(train_x, train_y)\n",
    "print('train:',r2_score(train_y,lg.predict(train_x)))\n",
    "print('test:',r2_score(test_y,lg.predict(test_x)))"
   ]
  },
  {
   "cell_type": "markdown",
   "metadata": {},
   "source": [
    "第一個model : 複線性迴歸 <br>\n",
    "testing r_square 有0.8，拿來當個minimum <br>"
   ]
  },
  {
   "cell_type": "code",
   "execution_count": 59,
   "metadata": {
    "collapsed": false
   },
   "outputs": [
    {
     "name": "stdout",
     "output_type": "stream",
     "text": [
      "train: 0.827245298308\n",
      "test: 0.809595068141\n"
     ]
    }
   ],
   "source": [
    "rig = Ridge(alpha = 1.5)\n",
    "rig.fit(train_x, train_y)\n",
    "print('train:',r2_score(train_y,rig.predict(train_x)))\n",
    "print('test:',r2_score(test_y,rig.predict(test_x)))"
   ]
  },
  {
   "cell_type": "markdown",
   "metadata": {},
   "source": [
    "第二個model : ridge迴歸 <br>\n",
    "testing r_square 跟複迴歸一樣= ="
   ]
  },
  {
   "cell_type": "code",
   "execution_count": 60,
   "metadata": {
    "collapsed": false
   },
   "outputs": [
    {
     "name": "stdout",
     "output_type": "stream",
     "text": [
      "train: 0.972402334094\n",
      "test: 0.887476678592\n"
     ]
    }
   ],
   "source": [
    "clf = GradientBoostingRegressor(loss='ls', alpha=0.95,\n",
    "                            n_estimators=500, max_depth=4,\n",
    "                            learning_rate=.1, min_samples_leaf=9,\n",
    "                            min_samples_split=9)\n",
    "\n",
    "clf.fit(train_x, train_y)\n",
    "print('train:',r2_score(train_y,clf.predict(train_x)))\n",
    "print('test:',r2_score(test_y,clf.predict(test_x)))"
   ]
  },
  {
   "cell_type": "markdown",
   "metadata": {},
   "source": [
    "第三個model : GBR <br>\n",
    "training 0.97 <br>\n",
    "testing 0.88 <br>\n",
    "雖然表現好很多 <br>\n",
    "但是看起來overfitting了 <br>\n",
    "做個cross validation看看 <br>"
   ]
  },
  {
   "cell_type": "code",
   "execution_count": 61,
   "metadata": {
    "collapsed": false
   },
   "outputs": [
    {
     "data": {
      "text/plain": [
       "array([ 0.86907738,  0.86152673,  0.87277027,  0.84149663,  0.89397462])"
      ]
     },
     "execution_count": 61,
     "metadata": {},
     "output_type": "execute_result"
    }
   ],
   "source": [
    "scores = cross_val_score(clf, train_x, train_y, cv=5, scoring='r2')\n",
    "scores"
   ]
  },
  {
   "cell_type": "code",
   "execution_count": 39,
   "metadata": {
    "collapsed": false
   },
   "outputs": [
    {
     "name": "stdout",
     "output_type": "stream",
     "text": [
      "Feature ranking:\n"
     ]
    },
    {
     "data": {
      "text/html": [
       "<div>\n",
       "<table border=\"1\" class=\"dataframe\">\n",
       "  <thead>\n",
       "    <tr style=\"text-align: right;\">\n",
       "      <th></th>\n",
       "      <th>feature</th>\n",
       "      <th>importances</th>\n",
       "    </tr>\n",
       "  </thead>\n",
       "  <tbody>\n",
       "    <tr>\n",
       "      <th>0</th>\n",
       "      <td>area</td>\n",
       "      <td>0.355908</td>\n",
       "    </tr>\n",
       "    <tr>\n",
       "      <th>1</th>\n",
       "      <td>min_station</td>\n",
       "      <td>0.109811</td>\n",
       "    </tr>\n",
       "    <tr>\n",
       "      <th>2</th>\n",
       "      <td>floor_ratio</td>\n",
       "      <td>0.103691</td>\n",
       "    </tr>\n",
       "    <tr>\n",
       "      <th>3</th>\n",
       "      <td>min_park</td>\n",
       "      <td>0.096742</td>\n",
       "    </tr>\n",
       "    <tr>\n",
       "      <th>4</th>\n",
       "      <td>station_cp_mean</td>\n",
       "      <td>0.056129</td>\n",
       "    </tr>\n",
       "    <tr>\n",
       "      <th>5</th>\n",
       "      <td>floor</td>\n",
       "      <td>0.054031</td>\n",
       "    </tr>\n",
       "    <tr>\n",
       "      <th>6</th>\n",
       "      <td>region_cp_mean</td>\n",
       "      <td>0.021299</td>\n",
       "    </tr>\n",
       "    <tr>\n",
       "      <th>7</th>\n",
       "      <td>naturalgas</td>\n",
       "      <td>0.017199</td>\n",
       "    </tr>\n",
       "    <tr>\n",
       "      <th>8</th>\n",
       "      <td>cartplace</td>\n",
       "      <td>0.014687</td>\n",
       "    </tr>\n",
       "    <tr>\n",
       "      <th>9</th>\n",
       "      <td>lift</td>\n",
       "      <td>0.011356</td>\n",
       "    </tr>\n",
       "  </tbody>\n",
       "</table>\n",
       "</div>"
      ],
      "text/plain": [
       "           feature  importances\n",
       "0             area     0.355908\n",
       "1      min_station     0.109811\n",
       "2      floor_ratio     0.103691\n",
       "3         min_park     0.096742\n",
       "4  station_cp_mean     0.056129\n",
       "5            floor     0.054031\n",
       "6   region_cp_mean     0.021299\n",
       "7       naturalgas     0.017199\n",
       "8        cartplace     0.014687\n",
       "9             lift     0.011356"
      ]
     },
     "execution_count": 39,
     "metadata": {},
     "output_type": "execute_result"
    }
   ],
   "source": [
    "importances = clf.feature_importances_\n",
    "indices = np.argsort(importances)[::-1]\n",
    "tree_columns = train_x.columns\n",
    "\n",
    "# Print the feature ranking\n",
    "print(\"Feature ranking:\")\n",
    "\n",
    "rf_list = []\n",
    "for f in range(train_x.shape[1]):\n",
    "    rf_dict = {}\n",
    "    #print(\"%d. feature %d : %s (%f)\" % (f + 1,indices[f], tree_columns[indices[f]],importances[indices[f]]))\n",
    "    rf_dict['feature'] = tree_columns[indices[f]]\n",
    "    rf_dict['importances'] = importances[indices[f]]\n",
    "    rf_list.append(rf_dict)\n",
    "\n",
    "importance_frame = pd.DataFrame(rf_list)\n",
    "importance_frame_10 = importance_frame[0:10]\n",
    "importance_frame_10"
   ]
  },
  {
   "cell_type": "code",
   "execution_count": 41,
   "metadata": {
    "collapsed": false
   },
   "outputs": [
    {
     "data": {
      "text/plain": [
       "[<matplotlib.text.Text at 0xed43cc0>, <matplotlib.text.Text at 0xa1a1470>]"
      ]
     },
     "execution_count": 41,
     "metadata": {},
     "output_type": "execute_result"
    },
    {
     "data": {
      "image/png": "[encoded data removed]",
      "text/plain": [
       "<matplotlib.figure.Figure at 0xa12bba8>"
      ]
     },
     "metadata": {},
     "output_type": "display_data"
    }
   ],
   "source": [
    "ax = sns.barplot(y =importance_frame_10['feature'] ,x =importance_frame_10['importances'],color = 'navy')\n",
    "ax.set(xlabel = 'feature_importance',ylabel = 'feature_name')"
   ]
  },
  {
   "cell_type": "code",
   "execution_count": 67,
   "metadata": {
    "collapsed": false
   },
   "outputs": [
    {
     "data": {
      "text/plain": [
       "min_station_name\n",
       "0             1\n",
       "七張            3\n",
       "三和國中          4\n",
       "三重國小          1\n",
       "中山           77\n",
       "中山國中         73\n",
       "中山國小        175\n",
       "中正紀念堂        42\n",
       "信義安和         89\n",
       "內湖           71\n",
       "公館           26\n",
       "六張犁          60\n",
       "劍南路          91\n",
       "劍潭           87\n",
       "動物園          16\n",
       "北投            6\n",
       "北門           43\n",
       "南京三民        141\n",
       "南京復興         54\n",
       "南港           44\n",
       "南港展覽館        37\n",
       "南港軟體園區       51\n",
       "古亭           92\n",
       "台北101/世貿     72\n",
       "台北小巨蛋        53\n",
       "台北車站         33\n",
       "台大醫院          2\n",
       "台電大樓         69\n",
       "唭哩岸          35\n",
       "善導寺          59\n",
       "           ... \n",
       "明德          128\n",
       "景美           31\n",
       "木柵           22\n",
       "東湖           60\n",
       "東門           92\n",
       "松山           61\n",
       "松山機場         17\n",
       "松江南京        151\n",
       "民權西路         40\n",
       "永春          163\n",
       "淡水            3\n",
       "港墘           65\n",
       "石牌          149\n",
       "科技大樓         60\n",
       "芝山          102\n",
       "萬芳社區         35\n",
       "萬芳醫院         42\n",
       "萬隆           41\n",
       "葫洲           37\n",
       "行天宮         125\n",
       "西湖           60\n",
       "西門          120\n",
       "象山          135\n",
       "辛亥           17\n",
       "關渡           23\n",
       "雙連          185\n",
       "頂埔            1\n",
       "頂溪            3\n",
       "麟光           76\n",
       "龍山寺         165\n",
       "Name: id, dtype: int64"
      ]
     },
     "execution_count": 67,
     "metadata": {},
     "output_type": "execute_result"
    }
   ],
   "source": [
    "test_set.groupby('min_station_name')['id'].count()"
   ]
  },
  {
   "cell_type": "markdown",
   "metadata": {},
   "source": [
    "最後看一下testset的情況，疑? 怎麼會有新北市的捷運站跑出來 <br>\n",
    "看看到底是什麼情況"
   ]
  },
  {
   "cell_type": "code",
   "execution_count": 68,
   "metadata": {
    "collapsed": false
   },
   "outputs": [
    {
     "data": {
      "text/html": [
       "<div>\n",
       "<table border=\"1\" class=\"dataframe\">\n",
       "  <thead>\n",
       "    <tr style=\"text-align: right;\">\n",
       "      <th></th>\n",
       "      <th>id</th>\n",
       "      <th>room</th>\n",
       "      <th>area</th>\n",
       "      <th>houseage</th>\n",
       "      <th>living</th>\n",
       "      <th>condition</th>\n",
       "      <th>floor</th>\n",
       "      <th>layout</th>\n",
       "      <th>allfloor</th>\n",
       "      <th>kind_name</th>\n",
       "      <th>...</th>\n",
       "      <th>address_img_title</th>\n",
       "      <th>unit</th>\n",
       "      <th>address</th>\n",
       "      <th>lat</th>\n",
       "      <th>lng</th>\n",
       "      <th>loc_type</th>\n",
       "      <th>min_station</th>\n",
       "      <th>min_station_name</th>\n",
       "      <th>min_park</th>\n",
       "      <th>min_park_name</th>\n",
       "    </tr>\n",
       "  </thead>\n",
       "  <tbody>\n",
       "    <tr>\n",
       "      <th>587</th>\n",
       "      <td>4674628</td>\n",
       "      <td>0</td>\n",
       "      <td>5.0</td>\n",
       "      <td>0</td>\n",
       "      <td>NaN</td>\n",
       "      <td>icebox,washer,hotwater,four,broadband,naturalg...</td>\n",
       "      <td>13</td>\n",
       "      <td>NaN</td>\n",
       "      <td>14</td>\n",
       "      <td>雅房</td>\n",
       "      <td>...</td>\n",
       "      <td>•新大樓，好美雅房、淋浴雅房，青年公園</td>\n",
       "      <td>元/月</td>\n",
       "      <td>萬華區青年路152巷</td>\n",
       "      <td>25.020467</td>\n",
       "      <td>121.501596</td>\n",
       "      <td>GEOMETRIC_CENTER</td>\n",
       "      <td>1580.464947</td>\n",
       "      <td>頂溪</td>\n",
       "      <td>443.504239</td>\n",
       "      <td>壽德公園</td>\n",
       "    </tr>\n",
       "    <tr>\n",
       "      <th>3023</th>\n",
       "      <td>4712332</td>\n",
       "      <td>3</td>\n",
       "      <td>30.0</td>\n",
       "      <td>0</td>\n",
       "      <td>NaN</td>\n",
       "      <td>cold,hotwater,landpost,cook,balcony_1,wardrobe...</td>\n",
       "      <td>4</td>\n",
       "      <td>3房2廳1衛</td>\n",
       "      <td>5</td>\n",
       "      <td>整層住家</td>\n",
       "      <td>...</td>\n",
       "      <td>近果菜市場（華中橋）公車站牌青年公園</td>\n",
       "      <td>元/月</td>\n",
       "      <td>萬華區萬大路493巷48弄16號</td>\n",
       "      <td>25.019310</td>\n",
       "      <td>121.499130</td>\n",
       "      <td>ROOFTOP</td>\n",
       "      <td>1755.733908</td>\n",
       "      <td>頂溪</td>\n",
       "      <td>422.052809</td>\n",
       "      <td>保德公園</td>\n",
       "    </tr>\n",
       "    <tr>\n",
       "      <th>4377</th>\n",
       "      <td>4742567</td>\n",
       "      <td>2</td>\n",
       "      <td>23.0</td>\n",
       "      <td>0</td>\n",
       "      <td>advstore,market,park,school</td>\n",
       "      <td>cold,washer,hotwater,landpost,cook,balcony_1,bed</td>\n",
       "      <td>4</td>\n",
       "      <td>2房2廳1衛</td>\n",
       "      <td>5</td>\n",
       "      <td>整層住家</td>\n",
       "      <td>...</td>\n",
       "      <td>採光佳,生活機能佳,近市場</td>\n",
       "      <td>元/月</td>\n",
       "      <td>萬華區富民路145巷</td>\n",
       "      <td>25.018594</td>\n",
       "      <td>121.500570</td>\n",
       "      <td>GEOMETRIC_CENTER</td>\n",
       "      <td>1592.114797</td>\n",
       "      <td>頂溪</td>\n",
       "      <td>562.084227</td>\n",
       "      <td>保德公園</td>\n",
       "    </tr>\n",
       "  </tbody>\n",
       "</table>\n",
       "<p>3 rows × 23 columns</p>\n",
       "</div>"
      ],
      "text/plain": [
       "           id  room  area  houseage                       living  \\\n",
       "587   4674628     0   5.0         0                          NaN   \n",
       "3023  4712332     3  30.0         0                          NaN   \n",
       "4377  4742567     2  23.0         0  advstore,market,park,school   \n",
       "\n",
       "                                              condition  floor  layout  \\\n",
       "587   icebox,washer,hotwater,four,broadband,naturalg...     13     NaN   \n",
       "3023  cold,hotwater,landpost,cook,balcony_1,wardrobe...      4  3房2廳1衛   \n",
       "4377   cold,washer,hotwater,landpost,cook,balcony_1,bed      4  2房2廳1衛   \n",
       "\n",
       "      allfloor kind_name      ...          address_img_title unit  \\\n",
       "587         14        雅房      ...        •新大樓，好美雅房、淋浴雅房，青年公園  元/月   \n",
       "3023         5      整層住家      ...         近果菜市場（華中橋）公車站牌青年公園  元/月   \n",
       "4377         5      整層住家      ...              採光佳,生活機能佳,近市場  元/月   \n",
       "\n",
       "               address        lat         lng          loc_type  min_station  \\\n",
       "587         萬華區青年路152巷  25.020467  121.501596  GEOMETRIC_CENTER  1580.464947   \n",
       "3023  萬華區萬大路493巷48弄16號  25.019310  121.499130           ROOFTOP  1755.733908   \n",
       "4377        萬華區富民路145巷  25.018594  121.500570  GEOMETRIC_CENTER  1592.114797   \n",
       "\n",
       "      min_station_name    min_park  min_park_name  \n",
       "587                 頂溪  443.504239           壽德公園  \n",
       "3023                頂溪  422.052809           保德公園  \n",
       "4377                頂溪  562.084227           保德公園  \n",
       "\n",
       "[3 rows x 23 columns]"
      ]
     },
     "execution_count": 68,
     "metadata": {},
     "output_type": "execute_result"
    }
   ],
   "source": [
    "test_set[test_set.min_station_name == '頂溪']"
   ]
  },
  {
   "cell_type": "markdown",
   "metadata": {},
   "source": [
    "原來是萬華區靠近新店溪的房子= = http://ppt.cc/un5jY <br>\n",
    "台北市靠近環河的房子都會有相同的問題 <br>\n",
    "就是離捷運站直線距離很短，但是實際走路的距離很長，這幾個例子來說大概差了1km左右 <br>\n",
    "目前想到的解決方法是用Googlemap Distance Matrix 算出實際行走距離"
   ]
  },
  {
   "cell_type": "code",
   "execution_count": 70,
   "metadata": {
    "collapsed": false
   },
   "outputs": [
    {
     "data": {
      "text/html": [
       "<div>\n",
       "<table border=\"1\" class=\"dataframe\">\n",
       "  <thead>\n",
       "    <tr style=\"text-align: right;\">\n",
       "      <th></th>\n",
       "      <th>id</th>\n",
       "      <th>room</th>\n",
       "      <th>area</th>\n",
       "      <th>price</th>\n",
       "      <th>houseage</th>\n",
       "      <th>living</th>\n",
       "      <th>condition</th>\n",
       "      <th>floor</th>\n",
       "      <th>layout</th>\n",
       "      <th>allfloor</th>\n",
       "      <th>...</th>\n",
       "      <th>address_img_title</th>\n",
       "      <th>unit</th>\n",
       "      <th>address</th>\n",
       "      <th>lat</th>\n",
       "      <th>lng</th>\n",
       "      <th>loc_type</th>\n",
       "      <th>min_station</th>\n",
       "      <th>min_station_name</th>\n",
       "      <th>min_park</th>\n",
       "      <th>min_park_name</th>\n",
       "    </tr>\n",
       "  </thead>\n",
       "  <tbody>\n",
       "    <tr>\n",
       "      <th>375</th>\n",
       "      <td>4796611</td>\n",
       "      <td>0</td>\n",
       "      <td>8.0</td>\n",
       "      <td>10000.0</td>\n",
       "      <td>0</td>\n",
       "      <td>NaN</td>\n",
       "      <td>icebox,cold,washer,hotwater,broadband,naturalg...</td>\n",
       "      <td>2</td>\n",
       "      <td>NaN</td>\n",
       "      <td>20</td>\n",
       "      <td>...</td>\n",
       "      <td>包水電網路-近中研院大套房出租</td>\n",
       "      <td>元/月</td>\n",
       "      <td>南港區林森路73巷</td>\n",
       "      <td>22.592557</td>\n",
       "      <td>120.331478</td>\n",
       "      <td>ROOFTOP</td>\n",
       "      <td>285948.679606</td>\n",
       "      <td>頂埔</td>\n",
       "      <td>293537.831475</td>\n",
       "      <td>樟新公園</td>\n",
       "    </tr>\n",
       "  </tbody>\n",
       "</table>\n",
       "<p>1 rows × 24 columns</p>\n",
       "</div>"
      ],
      "text/plain": [
       "          id  room  area    price  houseage living  \\\n",
       "375  4796611     0   8.0  10000.0         0    NaN   \n",
       "\n",
       "                                             condition  floor layout  \\\n",
       "375  icebox,cold,washer,hotwater,broadband,naturalg...      2    NaN   \n",
       "\n",
       "     allfloor      ...      address_img_title unit    address        lat  \\\n",
       "375        20      ...        包水電網路-近中研院大套房出租  元/月  南港區林森路73巷  22.592557   \n",
       "\n",
       "            lng loc_type    min_station  min_station_name       min_park  \\\n",
       "375  120.331478  ROOFTOP  285948.679606                頂埔  293537.831475   \n",
       "\n",
       "    min_park_name  \n",
       "375          樟新公園  \n",
       "\n",
       "[1 rows x 24 columns]"
      ]
     },
     "execution_count": 70,
     "metadata": {},
     "output_type": "execute_result"
    }
   ],
   "source": [
    "data[(data.min_station_name == '頂埔')]"
   ]
  },
  {
   "cell_type": "markdown",
   "metadata": {},
   "source": [
    "當然也有錯得很離譜的資料 http://ppt.cc/YxJaf <br>\n",
    "重點是test_set裡面也有發生 = = <br>\n",
    "這種就....用南港展覽館取代吧?!"
   ]
  },
  {
   "cell_type": "code",
   "execution_count": null,
   "metadata": {
    "collapsed": true
   },
   "outputs": [],
   "source": []
  }
 ],
 "metadata": {
  "kernelspec": {
   "display_name": "Python 3",
   "language": "python",
   "name": "python3"
  },
  "language_info": {
   "codemirror_mode": {
    "name": "ipython",
    "version": 3
   },
   "file_extension": ".py",
   "mimetype": "text/x-python",
   "name": "python",
   "nbconvert_exporter": "python",
   "pygments_lexer": "ipython3",
   "version": "3.5.1"
  }
 },
 "nbformat": 4,
 "nbformat_minor": 0
}
