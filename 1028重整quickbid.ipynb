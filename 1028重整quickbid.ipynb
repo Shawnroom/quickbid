{
 "cells": [
  {
   "cell_type": "code",
   "execution_count": 2,
   "metadata": {
    "collapsed": true
   },
   "outputs": [],
   "source": [
    "import pandas as pd\n",
    "import numpy as np\n",
    "import seaborn as sns\n",
    "import matplotlib.pyplot as plt\n",
    "get_ipython().magic(u'matplotlib inline')\n",
    "sns.set_style('whitegrid') \n",
    "\n",
    "import warnings\n",
    "warnings.filterwarnings('ignore')"
   ]
  },
  {
   "cell_type": "code",
   "execution_count": 3,
   "metadata": {
    "collapsed": true
   },
   "outputs": [],
   "source": [
    "bid = pd.read_stata('../論文csv/0722競標紀錄.dta',encoding='utf-8')\n",
    "mer = pd.read_stata('../論文csv/0722商品資訊.dta',encoding='utf-8')"
   ]
  },
  {
   "cell_type": "code",
   "execution_count": 4,
   "metadata": {
    "collapsed": true
   },
   "outputs": [],
   "source": [
    "def bid_counts(bid,mer):\n",
    "    # 競標內下標次數\n",
    "    bid_tp1 = bid.copy()\n",
    "    bid_tp1['bids_in_auction'] = bid_tp1.groupby(['mer_id','name'])['bid_price'].transform('count')\n",
    "    \n",
    "    # 競標內自動下標次數\n",
    "    bid_tp1['auto_tp'] = '自動'\n",
    "    bid_tp1['auto_dummy'] = 0\n",
    "    bid_tp1['auto_dummy'][bid_tp1['auto'] == bid_tp1['auto_tp']] = 1\n",
    "    bid_tp1['auto_in_auction'] = bid_tp1.groupby(['mer_id','name'])['auto_dummy'].transform('sum')\n",
    "    \n",
    "    # 與商品資訊合併\n",
    "    bid_tp2 = bid_tp1[['mer_id','name','bids_in_auction','auto_in_auction']]\n",
    "    bid_merge = bid_tp2.drop_duplicates(subset=['mer_id','name'])\n",
    "    data = pd.merge(mer,bid_merge,on='mer_id',how='outer')\n",
    "    \n",
    "    data = data[data.mer_id <= 18212]\n",
    "    data = data.drop(data.columns[0], axis=1)\n",
    "    \n",
    "    return data"
   ]
  },
  {
   "cell_type": "code",
   "execution_count": 5,
   "metadata": {
    "collapsed": true
   },
   "outputs": [],
   "source": [
    "def data_process(data_1): \n",
    "    # 計算競標利潤\n",
    "    data_1.loc[:,'auction_profit'] = 0\n",
    "    data_1['auction_profit'][data_1['winner'] == data_1['name']] = data_1['suggested_price'] - data_1['bids_in_auction']*25 - data_1['final_price'] -100\n",
    "    data_1['auction_profit'][data['winner'] != data_1['name']] = - data_1['bids_in_auction']*25\n",
    "    \n",
    "    # 96,93折\n",
    "    data_1['auction_profit96'] = data_1['auction_profit']\n",
    "    data_1['auction_profit96'][(data_1['winner'] == data_1['name'])] = data_1['suggested_price'] - data_1['bids_in_auction']*24 - data_1['final_price'] -100\n",
    "    data_1['auction_profit96'][(data_1['winner'] != data_1['name'])] = - data_1['bids_in_auction']*25*0.96   # (data_1['diff_type'] != 1\n",
    "\n",
    "    data_1['auction_profit93'] = data_1['auction_profit']\n",
    "    data_1['auction_profit93'][(data_1['winner'] == data_1['name'])] = data_1['suggested_price'] - data_1['bids_in_auction']*23.25 - data_1['final_price'] -100\n",
    "    data_1['auction_profit93'][(data_1['winner'] != data_1['name'])] = - data_1['bids_in_auction']*25*0.93\n",
    "    \n",
    "    # 持續期間\n",
    "    data_1['max'] = data_1.groupby('name')['date'].transform('max')\n",
    "    data_1['min'] = data_1.groupby('name')['date'].transform('min')\n",
    "    data_1['max'] = pd.to_datetime(data_1['max'])\n",
    "    data_1['min'] = pd.to_datetime(data_1['min'])\n",
    "    data_1['duration'] = (data_1['max']-data_1['min']) / np.timedelta64(1, 'D')\n",
    "    data_1['int_duration'] = data_1['duration'] + 1\n",
    "    \n",
    "    return data_1     "
   ]
  },
  {
   "cell_type": "code",
   "execution_count": 6,
   "metadata": {
    "collapsed": true
   },
   "outputs": [],
   "source": [
    "def personal_info(data_1): \n",
    "    #只取正規競標\n",
    "    data_person = data_1.copy()\n",
    "    data_person = data_person[data_person.new > 0]\n",
    "\n",
    "    # 個人贏得次數\n",
    "    data_person['win_dummy'] = 0\n",
    "    data_person['win_dummy'][data_person['winner'] == data_person['name']] = 1\n",
    "    data_person['win_number'] = data_person.groupby('name')['win_dummy'].transform('sum')\n",
    "\n",
    "    data_person = data_person.drop_duplicates(subset=['mer_id','name'])\n",
    "    data_person['total_profit'] = data_person.groupby('name')['auction_profit'].transform('sum')\n",
    "    data_person['total_profit96'] = data_person.groupby('name')['auction_profit96'].transform('sum')\n",
    "    data_person['total_profit93'] = data_person.groupby('name')['auction_profit93'].transform('sum')\n",
    "\n",
    "    data_person['totalreg_auctions'] = data_person.groupby('name')['mer_id'].transform('count')\n",
    "    data_person['totalreg_bids'] =  data_person.groupby('name')['bids_in_auction'].transform('sum')\n",
    "    \n",
    "    data_person2 = data_person.drop_duplicates(subset='name')\n",
    "    data_person2 = data_person2[['name','total_profit','total_profit96','total_profit93','totalreg_auctions','totalreg_bids','win_number']]\n",
    "    person = data_person2.dropna()\n",
    "    \n",
    "    return person"
   ]
  },
  {
   "cell_type": "code",
   "execution_count": 7,
   "metadata": {
    "collapsed": true
   },
   "outputs": [],
   "source": [
    "def save_check(data):\n",
    "    # 檢查一下 save 與 profit 是否相同\n",
    "    data_check = data[data['winner'] == data['name']]\n",
    "    data_check['check'] = data_check['save'] - data_check['auction_profit']\n",
    "    data_wonder = data_check[(data_check['check'] != 0) & (data_check['save'] > 0)]\n",
    "      \n",
    "    return data_wonder"
   ]
  },
  {
   "cell_type": "code",
   "execution_count": 8,
   "metadata": {
    "collapsed": true
   },
   "outputs": [],
   "source": [
    "def profit_dist(person):\n",
    "    # 競標利潤分配\n",
    "    reg_profit_quan = person['total_profit'].quantile([.01,.1,.3,.5,.7,.9,.99,])\n",
    "    reg_profit_quan96 = person['total_profit96'].quantile([.01,.1,.3,.5,.7,.9,.99,])\n",
    "    reg_profit_quan93 = person['total_profit93'].quantile([.01,.1,.3,.5,.7,.9,.99,])\n",
    "    \n",
    "    table = reg_profit_quan.to_frame()\n",
    "    table = table.join(reg_profit_quan96)\n",
    "    profit_table = table.join(reg_profit_quan93)\n",
    "    \n",
    "    return profit_table"
   ]
  },
  {
   "cell_type": "code",
   "execution_count": 9,
   "metadata": {
    "collapsed": true
   },
   "outputs": [],
   "source": [
    "def stat_descibe(data_1):\n",
    "    data2 = data_1.copy()\n",
    "    data2 = data2.dropna()\n",
    "    \n",
    "    # 三項指標\n",
    "    data2['auction'] = data2.groupby('name')['mer_id'].transform('count')\n",
    "    data2['bids'] = data2.groupby('name')['bids_in_auction'].transform('sum')   \n",
    "    data3 = data2.drop_duplicates(subset='name')\n",
    "    \n",
    "    auction = data3['auction'].quantile([.5,.75,.9,.95,.99])\n",
    "    bids = data3['bids'].quantile([.5,.75,.9,.95,.99])\n",
    "    duration = data3['int_duration'].quantile([.5,.75,.9,.95,.99])\n",
    "    \n",
    "    table2 = auction.to_frame()\n",
    "    table2 = table2.join(bids)\n",
    "    stat_table = table2.join(duration)\n",
    "    \n",
    "    return stat_table"
   ]
  },
  {
   "cell_type": "code",
   "execution_count": 10,
   "metadata": {
    "collapsed": true
   },
   "outputs": [],
   "source": [
    "def threegroup(x):\n",
    "    if x <= 12:\n",
    "        return 'fleet'\n",
    "    if 12 < x < 42:\n",
    "        return 'moderate'\n",
    "    if x > 41:\n",
    "        return 'persist'\n",
    "\n",
    "def make_three_group(person):\n",
    "    # 將玩家分成三群\n",
    "    person['totalreg_auctions'] = person['totalreg_auctions'].astype(int)\n",
    "    person['three_group'] = person['totalreg_auctions'].apply(threegroup)    \n",
    "    \n",
    "    return person"
   ]
  },
  {
   "cell_type": "code",
   "execution_count": 11,
   "metadata": {
    "collapsed": true
   },
   "outputs": [],
   "source": [
    "def three_group_stat(person):\n",
    "    # 分群人數\n",
    "    people = person.groupby('three_group')['name'].count()\n",
    "    # 下標次數\n",
    "    ttbids = person.groupby('three_group')['totalreg_bids'].sum()\n",
    "    # 分群得標數\n",
    "    ttwins = person.groupby('three_group')['win_number'].sum()\n",
    "    # 分群利潤\n",
    "    ttprofit = person.groupby('three_group')['total_profit'].sum()\n",
    "    ttprofit96 = person.groupby('three_group')['total_profit96'].sum()\n",
    "    ttprofit93 = person.groupby('three_group')['total_profit93'].sum()\n",
    "    \n",
    "    df = people.to_frame()\n",
    "    df = df.join(ttbids)\n",
    "    df = df.join(ttwins)\n",
    "    df = df.join(ttprofit)\n",
    "    df = df.join(ttprofit96)\n",
    "    three_group_df = df.join(ttprofit93)\n",
    "    \n",
    "    three_group_df['pro_per_bid'] = three_group_df['total_profit'] / three_group_df['totalreg_bids']\n",
    "    \n",
    "    return three_group_df"
   ]
  },
  {
   "cell_type": "code",
   "execution_count": 17,
   "metadata": {
    "collapsed": true
   },
   "outputs": [],
   "source": [
    "def strategy_variable(data_1):\n",
    "    data = data_1.copy()\n",
    "    data['autorate'] = data['auto_in_auction'] / data['bids_in_auction']\n",
    "    data['bid_allplayer'] = data.groupby('mer_id')['bids_in_auction'].transform('sum')\n",
    "    data['enough'] = data['bids_in_auction'] / data['bid_allplayer']\n",
    "    data['person_autorate'] = data.groupby('name')['autorate'].transform('mean')\n",
    "    data['person_enough'] = data.groupby('name')['enough'].transform('mean')\n",
    "    \n",
    "    data_merge = data[['name','person_autorate','person_enough']]\n",
    "    data_merge = data_merge.drop_duplicates(subset='name')\n",
    "    \n",
    "    return data_merge"
   ]
  },
  {
   "cell_type": "code",
   "execution_count": 12,
   "metadata": {
    "collapsed": true
   },
   "outputs": [],
   "source": [
    "data = bid_counts(bid,mer)\n",
    "data_1 = data_process(data)\n",
    "person = personal_info(data_1)\n",
    "person = make_three_group(person)"
   ]
  },
  {
   "cell_type": "code",
   "execution_count": 14,
   "metadata": {
    "collapsed": false
   },
   "outputs": [
    {
     "data": {
      "text/html": [
       "<div>\n",
       "<table border=\"1\" class=\"dataframe\">\n",
       "  <thead>\n",
       "    <tr style=\"text-align: right;\">\n",
       "      <th></th>\n",
       "      <th>total_profit</th>\n",
       "      <th>total_profit96</th>\n",
       "      <th>total_profit93</th>\n",
       "    </tr>\n",
       "  </thead>\n",
       "  <tbody>\n",
       "    <tr>\n",
       "      <th>0.01</th>\n",
       "      <td>-42286.92</td>\n",
       "      <td>-38276.32</td>\n",
       "      <td>-35402.24</td>\n",
       "    </tr>\n",
       "    <tr>\n",
       "      <th>0.10</th>\n",
       "      <td>-4949.60</td>\n",
       "      <td>-4572.60</td>\n",
       "      <td>-4285.90</td>\n",
       "    </tr>\n",
       "    <tr>\n",
       "      <th>0.30</th>\n",
       "      <td>-1100.00</td>\n",
       "      <td>-1032.00</td>\n",
       "      <td>-980.50</td>\n",
       "    </tr>\n",
       "    <tr>\n",
       "      <th>0.50</th>\n",
       "      <td>-500.00</td>\n",
       "      <td>-480.00</td>\n",
       "      <td>-465.00</td>\n",
       "    </tr>\n",
       "    <tr>\n",
       "      <th>0.70</th>\n",
       "      <td>-300.00</td>\n",
       "      <td>-288.00</td>\n",
       "      <td>-279.00</td>\n",
       "    </tr>\n",
       "    <tr>\n",
       "      <th>0.90</th>\n",
       "      <td>-25.00</td>\n",
       "      <td>-24.00</td>\n",
       "      <td>-23.25</td>\n",
       "    </tr>\n",
       "    <tr>\n",
       "      <th>0.99</th>\n",
       "      <td>37987.20</td>\n",
       "      <td>41278.24</td>\n",
       "      <td>42789.64</td>\n",
       "    </tr>\n",
       "  </tbody>\n",
       "</table>\n",
       "</div>"
      ],
      "text/plain": [
       "      total_profit  total_profit96  total_profit93\n",
       "0.01     -42286.92       -38276.32       -35402.24\n",
       "0.10      -4949.60        -4572.60        -4285.90\n",
       "0.30      -1100.00        -1032.00         -980.50\n",
       "0.50       -500.00         -480.00         -465.00\n",
       "0.70       -300.00         -288.00         -279.00\n",
       "0.90        -25.00          -24.00          -23.25\n",
       "0.99      37987.20        41278.24        42789.64"
      ]
     },
     "execution_count": 14,
     "metadata": {},
     "output_type": "execute_result"
    }
   ],
   "source": [
    "profit_table = profit_dist(person)\n",
    "profit_table"
   ]
  },
  {
   "cell_type": "code",
   "execution_count": 15,
   "metadata": {
    "collapsed": false
   },
   "outputs": [
    {
     "data": {
      "text/html": [
       "<div>\n",
       "<table border=\"1\" class=\"dataframe\">\n",
       "  <thead>\n",
       "    <tr style=\"text-align: right;\">\n",
       "      <th></th>\n",
       "      <th>auction</th>\n",
       "      <th>bids</th>\n",
       "      <th>int_duration</th>\n",
       "    </tr>\n",
       "  </thead>\n",
       "  <tbody>\n",
       "    <tr>\n",
       "      <th>0.50</th>\n",
       "      <td>4.00</td>\n",
       "      <td>25.00</td>\n",
       "      <td>6.00</td>\n",
       "    </tr>\n",
       "    <tr>\n",
       "      <th>0.75</th>\n",
       "      <td>10.00</td>\n",
       "      <td>105.00</td>\n",
       "      <td>45.00</td>\n",
       "    </tr>\n",
       "    <tr>\n",
       "      <th>0.90</th>\n",
       "      <td>22.00</td>\n",
       "      <td>388.20</td>\n",
       "      <td>283.00</td>\n",
       "    </tr>\n",
       "    <tr>\n",
       "      <th>0.95</th>\n",
       "      <td>41.00</td>\n",
       "      <td>961.60</td>\n",
       "      <td>595.00</td>\n",
       "    </tr>\n",
       "    <tr>\n",
       "      <th>0.99</th>\n",
       "      <td>158.04</td>\n",
       "      <td>6240.64</td>\n",
       "      <td>1166.56</td>\n",
       "    </tr>\n",
       "  </tbody>\n",
       "</table>\n",
       "</div>"
      ],
      "text/plain": [
       "      auction     bids  int_duration\n",
       "0.50     4.00    25.00          6.00\n",
       "0.75    10.00   105.00         45.00\n",
       "0.90    22.00   388.20        283.00\n",
       "0.95    41.00   961.60        595.00\n",
       "0.99   158.04  6240.64       1166.56"
      ]
     },
     "execution_count": 15,
     "metadata": {},
     "output_type": "execute_result"
    }
   ],
   "source": [
    "stat_table = stat_descibe(data_1)\n",
    "stat_table"
   ]
  },
  {
   "cell_type": "code",
   "execution_count": 16,
   "metadata": {
    "collapsed": false
   },
   "outputs": [
    {
     "data": {
      "text/html": [
       "<div>\n",
       "<table border=\"1\" class=\"dataframe\">\n",
       "  <thead>\n",
       "    <tr style=\"text-align: right;\">\n",
       "      <th></th>\n",
       "      <th>name</th>\n",
       "      <th>totalreg_bids</th>\n",
       "      <th>win_number</th>\n",
       "      <th>total_profit</th>\n",
       "      <th>total_profit96</th>\n",
       "      <th>total_profit93</th>\n",
       "      <th>pro_per_bid</th>\n",
       "    </tr>\n",
       "    <tr>\n",
       "      <th>three_group</th>\n",
       "      <th></th>\n",
       "      <th></th>\n",
       "      <th></th>\n",
       "      <th></th>\n",
       "      <th></th>\n",
       "      <th></th>\n",
       "      <th></th>\n",
       "    </tr>\n",
       "  </thead>\n",
       "  <tbody>\n",
       "    <tr>\n",
       "      <th>fleet</th>\n",
       "      <td>6636</td>\n",
       "      <td>373526.0</td>\n",
       "      <td>1201.0</td>\n",
       "      <td>-6050546.0</td>\n",
       "      <td>-5677020.0</td>\n",
       "      <td>-5396875.50</td>\n",
       "      <td>-16.198460</td>\n",
       "    </tr>\n",
       "    <tr>\n",
       "      <th>moderate</th>\n",
       "      <td>1007</td>\n",
       "      <td>498353.0</td>\n",
       "      <td>2528.0</td>\n",
       "      <td>-3929534.0</td>\n",
       "      <td>-3431181.0</td>\n",
       "      <td>-3057416.25</td>\n",
       "      <td>-7.885041</td>\n",
       "    </tr>\n",
       "    <tr>\n",
       "      <th>persist</th>\n",
       "      <td>382</td>\n",
       "      <td>1885735.0</td>\n",
       "      <td>11235.0</td>\n",
       "      <td>229573.0</td>\n",
       "      <td>2115308.0</td>\n",
       "      <td>3529609.25</td>\n",
       "      <td>0.121742</td>\n",
       "    </tr>\n",
       "  </tbody>\n",
       "</table>\n",
       "</div>"
      ],
      "text/plain": [
       "             name  totalreg_bids  win_number  total_profit  total_profit96  \\\n",
       "three_group                                                                  \n",
       "fleet        6636       373526.0      1201.0    -6050546.0      -5677020.0   \n",
       "moderate     1007       498353.0      2528.0    -3929534.0      -3431181.0   \n",
       "persist       382      1885735.0     11235.0      229573.0       2115308.0   \n",
       "\n",
       "             total_profit93  pro_per_bid  \n",
       "three_group                               \n",
       "fleet           -5396875.50   -16.198460  \n",
       "moderate        -3057416.25    -7.885041  \n",
       "persist          3529609.25     0.121742  "
      ]
     },
     "execution_count": 16,
     "metadata": {},
     "output_type": "execute_result"
    }
   ],
   "source": [
    "three_group_df = three_group_stat(person)\n",
    "three_group_df"
   ]
  },
  {
   "cell_type": "code",
   "execution_count": 21,
   "metadata": {
    "collapsed": true
   },
   "outputs": [],
   "source": [
    "data_merge = strategy_variable(data_1)\n",
    "strategy_df = pd.merge(person,data_merge,on='name',how='outer')\n",
    "strategy_df = strategy_df.dropna() #去除無正規競標的人"
   ]
  },
  {
   "cell_type": "code",
   "execution_count": 23,
   "metadata": {
    "collapsed": false
   },
   "outputs": [
    {
     "data": {
      "text/plain": [
       "three_group\n",
       "fleet       0.071439\n",
       "moderate    0.117765\n",
       "persist     0.187489\n",
       "Name: person_autorate, dtype: float64"
      ]
     },
     "execution_count": 23,
     "metadata": {},
     "output_type": "execute_result"
    }
   ],
   "source": [
    "strategy_df.groupby('three_group')['person_autorate'].mean()"
   ]
  },
  {
   "cell_type": "code",
   "execution_count": 24,
   "metadata": {
    "collapsed": false
   },
   "outputs": [
    {
     "data": {
      "text/plain": [
       "three_group\n",
       "fleet       0.120347\n",
       "moderate    0.142505\n",
       "persist     0.194172\n",
       "Name: person_enough, dtype: float64"
      ]
     },
     "execution_count": 24,
     "metadata": {},
     "output_type": "execute_result"
    }
   ],
   "source": [
    "strategy_df.groupby('three_group')['person_enough'].mean()"
   ]
  },
  {
   "cell_type": "code",
   "execution_count": null,
   "metadata": {
    "collapsed": true
   },
   "outputs": [],
   "source": []
  },
  {
   "cell_type": "code",
   "execution_count": null,
   "metadata": {
    "collapsed": true
   },
   "outputs": [],
   "source": [
    "data_1.to_csv('../論文csv/0722競標整理.csv',encoding='utf-8')\n",
    "person.to_csv('../論文csv/0723個人整理.csv',encoding='utf-8')"
   ]
  },
  {
   "cell_type": "code",
   "execution_count": null,
   "metadata": {
    "collapsed": true
   },
   "outputs": [],
   "source": []
  }
 ],
 "metadata": {
  "kernelspec": {
   "display_name": "Python 3",
   "language": "python",
   "name": "python3"
  },
  "language_info": {
   "codemirror_mode": {
    "name": "ipython",
    "version": 3
   },
   "file_extension": ".py",
   "mimetype": "text/x-python",
   "name": "python",
   "nbconvert_exporter": "python",
   "pygments_lexer": "ipython3",
   "version": "3.5.1"
  }
 },
 "nbformat": 4,
 "nbformat_minor": 0
}
